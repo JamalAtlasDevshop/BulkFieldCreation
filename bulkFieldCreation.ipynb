{
 "cells": [
  {
   "cell_type": "code",
   "execution_count": 3,
   "id": "5a93c1fd-638f-4495-8fe6-c6cac01ee6c5",
   "metadata": {},
   "outputs": [],
   "source": [
    "import pandas as pd\n"
   ]
  },
  {
   "cell_type": "code",
   "execution_count": 59,
   "id": "abde9dbb-0040-49b1-ad79-c36d8dc48e3b",
   "metadata": {},
   "outputs": [],
   "source": [
    "# Replace 'your_file.csv' with the path to your actual CSV file\n",
    "file_path = r'C:\\Users\\LENOVO\\OneDrive\\Bureau\\BulkFieldCreation.csv'\n",
    "df = pd.read_csv(file_path)\n",
    "\n",
    "df_real = pd.DataFrame(df)\n",
    "\n",
    "fieldNameByType = df_real.T[0].to_dict()\n"
   ]
  },
  {
   "cell_type": "code",
   "execution_count": 60,
   "id": "bef17085-73e2-4abb-9cd6-37d1abda4329",
   "metadata": {},
   "outputs": [],
   "source": [
    "firstElement = list(fieldNameByType.items())[0]"
   ]
  },
  {
   "cell_type": "code",
   "execution_count": 61,
   "id": "b87facb5-c355-4b80-b854-69a94762fbdf",
   "metadata": {},
   "outputs": [
    {
     "name": "stdout",
     "output_type": "stream",
     "text": [
      "('MOTHER', 'Text(255)')\n"
     ]
    }
   ],
   "source": [
    "print(firstElement)"
   ]
  },
  {
   "cell_type": "code",
   "execution_count": 62,
   "id": "bb3aabfd-7e14-49de-963f-bb9bc5292045",
   "metadata": {},
   "outputs": [],
   "source": [
    "from xml.etree.ElementTree import Element, SubElement, tostring, ElementTree\n",
    "from xml.dom.minidom import parseString\n",
    "\n",
    "def generate_xml(map_data):\n",
    "    # Define namespace\n",
    "    ns = \"http://soap.sforce.com/2006/04/metadata\"\n",
    "    \n",
    "    # Create the root element\n",
    "    root = Element(\"CustomField\", xmlns=ns)\n",
    "    \n",
    "    # Add child elements based on the map data (key-value pairs)\n",
    "    for key, value in map_data.items():\n",
    "        SubElement(root, \"fullName\").text = str(key)\n",
    "        SubElement(root, \"deleteConstraint\").text = \"SetNull\"\n",
    "        SubElement(root, \"externalId\").text = \"false\"\n",
    "        SubElement(root, \"label\").text = \"Applicant\"\n",
    "        SubElement(root, \"relationshipLabel\").text = str(key)\n",
    "        SubElement(root, \"relationshipName\").text = str(key)\n",
    "        SubElement(root, \"required\").text = \"false\"\n",
    "        SubElement(root, \"trackTrending\").text = \"false\"\n",
    "        SubElement(root, \"type\").text = str(value)\n",
    "        \n",
    "        # Assuming one entry per file or per key-value pair\n",
    "        break\n",
    "    \n",
    "    # Generate a pretty-printed XML string\n",
    "    rough_string = tostring(root, 'utf-8')\n",
    "    reparsed = parseString(rough_string)\n",
    "    pretty_xml = reparsed.toprettyxml(indent=\"    \")\n",
    "    \n",
    "    return pretty_xml\n",
    "\n",
    "# Example map data\n",
    "my_map = {'ExampleKey': 'ExampleValue'}\n",
    "\n",
    "# Generate XML\n",
    "xml_content = generate_xml(my_map)\n",
    "\n"
   ]
  },
  {
   "cell_type": "code",
   "execution_count": 63,
   "id": "905b39de-d66e-431a-b796-43b48bb03b9b",
   "metadata": {},
   "outputs": [
    {
     "name": "stdout",
     "output_type": "stream",
     "text": [
      "<?xml version=\"1.0\" ?>\n",
      "<CustomField xmlns=\"http://soap.sforce.com/2006/04/metadata\">\n",
      "    <fullName>ExampleKey</fullName>\n",
      "    <deleteConstraint>SetNull</deleteConstraint>\n",
      "    <externalId>false</externalId>\n",
      "    <label>Applicant</label>\n",
      "    <relationshipLabel>ExampleKey</relationshipLabel>\n",
      "    <relationshipName>ExampleKey</relationshipName>\n",
      "    <required>false</required>\n",
      "    <trackTrending>false</trackTrending>\n",
      "    <type>ExampleValue</type>\n",
      "</CustomField>\n",
      "\n"
     ]
    }
   ],
   "source": [
    "print(xml_content)"
   ]
  },
  {
   "cell_type": "code",
   "execution_count": null,
   "id": "6fb66139-e21e-4149-bc33-49e7b25e8a82",
   "metadata": {},
   "outputs": [],
   "source": []
  }
 ],
 "metadata": {
  "kernelspec": {
   "display_name": "Python 3 (ipykernel)",
   "language": "python",
   "name": "python3"
  },
  "language_info": {
   "codemirror_mode": {
    "name": "ipython",
    "version": 3
   },
   "file_extension": ".py",
   "mimetype": "text/x-python",
   "name": "python",
   "nbconvert_exporter": "python",
   "pygments_lexer": "ipython3",
   "version": "3.11.5"
  }
 },
 "nbformat": 4,
 "nbformat_minor": 5
}
